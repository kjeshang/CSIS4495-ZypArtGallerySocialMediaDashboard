{
 "cells": [
  {
   "cell_type": "code",
   "execution_count": 18,
   "metadata": {},
   "outputs": [],
   "source": [
    "import pandas as pd"
   ]
  },
  {
   "cell_type": "code",
   "execution_count": 19,
   "metadata": {},
   "outputs": [],
   "source": [
    "df_iso_alpha = pd.read_csv(\"CountryCode-iso_alpha.csv\", index_col=False);\n",
    "df_iso_alpha2 = pd.read_csv(\"CountryCode-iso_alpha2.csv\", index_col=False);"
   ]
  },
  {
   "cell_type": "code",
   "execution_count": 20,
   "metadata": {},
   "outputs": [
    {
     "data": {
      "text/html": [
       "<div>\n",
       "<style scoped>\n",
       "    .dataframe tbody tr th:only-of-type {\n",
       "        vertical-align: middle;\n",
       "    }\n",
       "\n",
       "    .dataframe tbody tr th {\n",
       "        vertical-align: top;\n",
       "    }\n",
       "\n",
       "    .dataframe thead th {\n",
       "        text-align: right;\n",
       "    }\n",
       "</style>\n",
       "<table border=\"1\" class=\"dataframe\">\n",
       "  <thead>\n",
       "    <tr style=\"text-align: right;\">\n",
       "      <th></th>\n",
       "      <th>Country</th>\n",
       "      <th>Code</th>\n",
       "    </tr>\n",
       "  </thead>\n",
       "  <tbody>\n",
       "    <tr>\n",
       "      <th>0</th>\n",
       "      <td>Afghanistan</td>\n",
       "      <td>AFG</td>\n",
       "    </tr>\n",
       "    <tr>\n",
       "      <th>1</th>\n",
       "      <td>Albania</td>\n",
       "      <td>ALB</td>\n",
       "    </tr>\n",
       "    <tr>\n",
       "      <th>2</th>\n",
       "      <td>Algeria</td>\n",
       "      <td>DZA</td>\n",
       "    </tr>\n",
       "    <tr>\n",
       "      <th>3</th>\n",
       "      <td>American Samoa</td>\n",
       "      <td>ASM</td>\n",
       "    </tr>\n",
       "    <tr>\n",
       "      <th>4</th>\n",
       "      <td>Andorra</td>\n",
       "      <td>AND</td>\n",
       "    </tr>\n",
       "  </tbody>\n",
       "</table>\n",
       "</div>"
      ],
      "text/plain": [
       "          Country Code\n",
       "0     Afghanistan  AFG\n",
       "1         Albania  ALB\n",
       "2         Algeria  DZA\n",
       "3  American Samoa  ASM\n",
       "4         Andorra  AND"
      ]
     },
     "execution_count": 20,
     "metadata": {},
     "output_type": "execute_result"
    }
   ],
   "source": [
    "df_iso_alpha = df_iso_alpha[[\"COUNTRY\",\"CODE\"]]\n",
    "df_iso_alpha = df_iso_alpha.rename(columns={\"COUNTRY\":\"Country\",\"CODE\":\"Code\"});\n",
    "\n",
    "df_iso_alpha2_og = df_iso_alpha2.copy()\n",
    "df_iso_alpha2 = df_iso_alpha2[[\"name\",\"alpha-3\"]];\n",
    "df_iso_alpha2 = df_iso_alpha2.rename(columns={\"name\":\"Country\",\"alpha-3\":\"Code\"});\n",
    "\n",
    "df_iso_alpha_Final = pd.concat([df_iso_alpha, df_iso_alpha2], ignore_index=True);\n",
    "df_iso_alpha_Final = df_iso_alpha_Final.drop_duplicates();\n",
    "df_iso_alpha_Final.head()"
   ]
  },
  {
   "cell_type": "code",
   "execution_count": 21,
   "metadata": {},
   "outputs": [
    {
     "data": {
      "text/plain": [
       "['Southern Asia',\n",
       " 'Northern Europe',\n",
       " 'Southern Europe',\n",
       " 'Northern Africa',\n",
       " 'Polynesia',\n",
       " 'Sub-Saharan Africa',\n",
       " 'Latin America and the Caribbean',\n",
       " nan,\n",
       " 'Western Asia',\n",
       " 'Australia and New Zealand',\n",
       " 'Western Europe',\n",
       " 'Eastern Europe',\n",
       " 'Northern America',\n",
       " 'South-eastern Asia',\n",
       " 'Eastern Asia',\n",
       " 'Melanesia',\n",
       " 'Micronesia',\n",
       " 'Central Asia']"
      ]
     },
     "execution_count": 21,
     "metadata": {},
     "output_type": "execute_result"
    }
   ],
   "source": [
    "df_iso_alpha2_og[\"sub-region\"].unique().tolist()"
   ]
  },
  {
   "cell_type": "code",
   "execution_count": 22,
   "metadata": {},
   "outputs": [
    {
     "data": {
      "text/html": [
       "<div>\n",
       "<style scoped>\n",
       "    .dataframe tbody tr th:only-of-type {\n",
       "        vertical-align: middle;\n",
       "    }\n",
       "\n",
       "    .dataframe tbody tr th {\n",
       "        vertical-align: top;\n",
       "    }\n",
       "\n",
       "    .dataframe thead th {\n",
       "        text-align: right;\n",
       "    }\n",
       "</style>\n",
       "<table border=\"1\" class=\"dataframe\">\n",
       "  <thead>\n",
       "    <tr style=\"text-align: right;\">\n",
       "      <th></th>\n",
       "      <th>Country</th>\n",
       "      <th>Code</th>\n",
       "      <th>Region</th>\n",
       "    </tr>\n",
       "  </thead>\n",
       "  <tbody>\n",
       "    <tr>\n",
       "      <th>0</th>\n",
       "      <td>Afghanistan</td>\n",
       "      <td>AFG</td>\n",
       "      <td>Asia</td>\n",
       "    </tr>\n",
       "    <tr>\n",
       "      <th>1</th>\n",
       "      <td>Albania</td>\n",
       "      <td>ALB</td>\n",
       "      <td>Europe</td>\n",
       "    </tr>\n",
       "    <tr>\n",
       "      <th>2</th>\n",
       "      <td>Algeria</td>\n",
       "      <td>DZA</td>\n",
       "      <td>Africa</td>\n",
       "    </tr>\n",
       "    <tr>\n",
       "      <th>3</th>\n",
       "      <td>American Samoa</td>\n",
       "      <td>ASM</td>\n",
       "      <td>World</td>\n",
       "    </tr>\n",
       "    <tr>\n",
       "      <th>4</th>\n",
       "      <td>Andorra</td>\n",
       "      <td>AND</td>\n",
       "      <td>Europe</td>\n",
       "    </tr>\n",
       "  </tbody>\n",
       "</table>\n",
       "</div>"
      ],
      "text/plain": [
       "          Country Code  Region\n",
       "0     Afghanistan  AFG    Asia\n",
       "1         Albania  ALB  Europe\n",
       "2         Algeria  DZA  Africa\n",
       "3  American Samoa  ASM   World\n",
       "4         Andorra  AND  Europe"
      ]
     },
     "execution_count": 22,
     "metadata": {},
     "output_type": "execute_result"
    }
   ],
   "source": [
    "df_iso_alpha_Final[\"Region\"] = \"\";\n",
    "for i in df_iso_alpha_Final.index:\n",
    "    for j in df_iso_alpha2_og.index:\n",
    "        if df_iso_alpha_Final.loc[i, \"Code\"] == df_iso_alpha2_og.loc[j, \"alpha-3\"]:\n",
    "            regionScope = \"World\";\n",
    "            if (df_iso_alpha2_og.loc[j, \"sub-region\"] == 'Southern Asia') | (df_iso_alpha2_og.loc[j, \"sub-region\"] == 'Western Asia') | (df_iso_alpha2_og.loc[j, \"sub-region\"] == 'South-eastern Asia') | (df_iso_alpha2_og.loc[j, \"sub-region\"] == 'Eastern Asia') | (df_iso_alpha2_og.loc[j, \"sub-region\"] == 'Central Asia'):\n",
    "                regionScope = \"Asia\";\n",
    "            if (df_iso_alpha2_og.loc[j, \"sub-region\"] == 'Northern Europe') | (df_iso_alpha2_og.loc[j, \"sub-region\"] == 'Southern Europe') | (df_iso_alpha2_og.loc[j, \"sub-region\"] == 'Western Europe') | (df_iso_alpha2_og.loc[j, \"sub-region\"] == 'Eastern Europe'):\n",
    "                regionScope = \"Europe\";\n",
    "            if (df_iso_alpha2_og.loc[j, \"sub-region\"] == 'Northern Africa') | (df_iso_alpha2_og.loc[j, \"sub-region\"] == 'Sub-Saharan Africa'):\n",
    "                regionScope = \"Africa\";\n",
    "            if df_iso_alpha2_og.loc[j, \"sub-region\"] == 'Northern America':\n",
    "                # if df_iso_alpha_Final.loc[i, \"Country\"] == \"United States of America\":\n",
    "                #     regionScope = \"USA\";\n",
    "                # else:\n",
    "                #     regionScope = \"North America\";\n",
    "                regionScope = \"North America\";\n",
    "            if df_iso_alpha2_og.loc[j, \"sub-region\"] == 'Latin America and the Caribbean':\n",
    "                regionScope = \"South America\";\n",
    "            df_iso_alpha_Final.loc[i, \"Region\"] = regionScope;\n",
    "df_iso_alpha_Final.head()"
   ]
  },
  {
   "cell_type": "code",
   "execution_count": 23,
   "metadata": {},
   "outputs": [],
   "source": [
    "df_iso_alpha_Final.loc[14, \"Region\"] = \"South America\";\n",
    "df_iso_alpha_Final.loc[109, \"Region\"] = \"Europe\";\n",
    "df_iso_alpha_Final.loc[218, \"Region\"] = \"Asia\";"
   ]
  },
  {
   "cell_type": "code",
   "execution_count": 24,
   "metadata": {},
   "outputs": [
    {
     "data": {
      "text/html": [
       "<div>\n",
       "<style scoped>\n",
       "    .dataframe tbody tr th:only-of-type {\n",
       "        vertical-align: middle;\n",
       "    }\n",
       "\n",
       "    .dataframe tbody tr th {\n",
       "        vertical-align: top;\n",
       "    }\n",
       "\n",
       "    .dataframe thead th {\n",
       "        text-align: right;\n",
       "    }\n",
       "</style>\n",
       "<table border=\"1\" class=\"dataframe\">\n",
       "  <thead>\n",
       "    <tr style=\"text-align: right;\">\n",
       "      <th></th>\n",
       "      <th>Country</th>\n",
       "      <th>Code</th>\n",
       "      <th>Region</th>\n",
       "    </tr>\n",
       "  </thead>\n",
       "  <tbody>\n",
       "  </tbody>\n",
       "</table>\n",
       "</div>"
      ],
      "text/plain": [
       "Empty DataFrame\n",
       "Columns: [Country, Code, Region]\n",
       "Index: []"
      ]
     },
     "execution_count": 24,
     "metadata": {},
     "output_type": "execute_result"
    }
   ],
   "source": [
    "df_iso_alpha_Final[df_iso_alpha_Final[\"Region\"] == \"\"]"
   ]
  },
  {
   "cell_type": "code",
   "execution_count": 28,
   "metadata": {},
   "outputs": [
    {
     "data": {
      "text/html": [
       "<div>\n",
       "<style scoped>\n",
       "    .dataframe tbody tr th:only-of-type {\n",
       "        vertical-align: middle;\n",
       "    }\n",
       "\n",
       "    .dataframe tbody tr th {\n",
       "        vertical-align: top;\n",
       "    }\n",
       "\n",
       "    .dataframe thead th {\n",
       "        text-align: right;\n",
       "    }\n",
       "</style>\n",
       "<table border=\"1\" class=\"dataframe\">\n",
       "  <thead>\n",
       "    <tr style=\"text-align: right;\">\n",
       "      <th></th>\n",
       "      <th>Country</th>\n",
       "      <th>Code</th>\n",
       "      <th>Region</th>\n",
       "    </tr>\n",
       "  </thead>\n",
       "  <tbody>\n",
       "    <tr>\n",
       "      <th>211</th>\n",
       "      <td>United States</td>\n",
       "      <td>USA</td>\n",
       "      <td>North America</td>\n",
       "    </tr>\n",
       "  </tbody>\n",
       "</table>\n",
       "</div>"
      ],
      "text/plain": [
       "           Country Code         Region\n",
       "211  United States  USA  North America"
      ]
     },
     "execution_count": 28,
     "metadata": {},
     "output_type": "execute_result"
    }
   ],
   "source": [
    "df_iso_alpha_Final[df_iso_alpha_Final[\"Country\"] == \"United States\"]"
   ]
  },
  {
   "cell_type": "code",
   "execution_count": 17,
   "metadata": {},
   "outputs": [],
   "source": [
    "df_iso_alpha_Final.to_csv(\"CountryCode-iso_alpha_Final.csv\", index=False);"
   ]
  }
 ],
 "metadata": {
  "kernelspec": {
   "display_name": "Python 3.10.1 64-bit",
   "language": "python",
   "name": "python3"
  },
  "language_info": {
   "codemirror_mode": {
    "name": "ipython",
    "version": 3
   },
   "file_extension": ".py",
   "mimetype": "text/x-python",
   "name": "python",
   "nbconvert_exporter": "python",
   "pygments_lexer": "ipython3",
   "version": "3.10.1"
  },
  "orig_nbformat": 4,
  "vscode": {
   "interpreter": {
    "hash": "07fcc30a38d1ecd00416a20ffc3bb9ba1ff350e42774c526eac392e139b99617"
   }
  }
 },
 "nbformat": 4,
 "nbformat_minor": 2
}
